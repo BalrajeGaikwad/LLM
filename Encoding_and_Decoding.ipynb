{
  "nbformat": 4,
  "nbformat_minor": 0,
  "metadata": {
    "colab": {
      "provenance": []
    },
    "kernelspec": {
      "name": "python3",
      "display_name": "Python 3"
    },
    "language_info": {
      "name": "python"
    }
  },
  "cells": [
    {
      "cell_type": "markdown",
      "source": [
        "# Basic Encoding Decoding"
      ],
      "metadata": {
        "id": "t-pK0S3deyyD"
      }
    },
    {
      "cell_type": "code",
      "execution_count": 1,
      "metadata": {
        "colab": {
          "base_uri": "https://localhost:8080/"
        },
        "id": "8a308Gl0extP",
        "outputId": "5778084e-24d9-467e-dd78-0e13c1093034"
      },
      "outputs": [
        {
          "output_type": "stream",
          "name": "stdout",
          "text": [
            "Encoded: [104, 101, 108, 108, 111]\n",
            "Decoded: hello\n"
          ]
        }
      ],
      "source": [
        "text=\"hello\"\n",
        "encoded=[ord(i) for i in text]\n",
        "print(\"Encoded:\", encoded)\n",
        "decoded=[chr(i) for i in encoded]\n",
        "print(\"Decoded:\", ''.join(decoded))"
      ]
    },
    {
      "cell_type": "code",
      "source": [],
      "metadata": {
        "id": "XfbXoLmifFhP"
      },
      "execution_count": null,
      "outputs": []
    },
    {
      "cell_type": "markdown",
      "source": [
        "# Word lavel tokanization"
      ],
      "metadata": {
        "id": "-sOe9icifMHg"
      }
    },
    {
      "cell_type": "code",
      "source": [
        "# Encoding\n",
        "text = \"hello world hello\"\n",
        "vocab = {word: idx for idx, word in enumerate(set(text.split()))}\n",
        "encoded = [vocab[word] for word in text.split()]\n",
        "print(\"Encoded:\", encoded)\n",
        "\n",
        "# Decoding\n",
        "inv_vocab = {idx: word for word, idx in vocab.items()}\n",
        "decoded = ' '.join([inv_vocab[idx] for idx in encoded])\n",
        "print(\"Decoded:\", decoded)\n"
      ],
      "metadata": {
        "id": "wmuGLPVXfQUH",
        "outputId": "bb51eddb-0f51-4425-89dc-45c140eec4c3",
        "colab": {
          "base_uri": "https://localhost:8080/"
        }
      },
      "execution_count": 2,
      "outputs": [
        {
          "output_type": "stream",
          "name": "stdout",
          "text": [
            "Encoded: [0, 1, 0]\n",
            "Decoded: hello world hello\n"
          ]
        }
      ]
    },
    {
      "cell_type": "code",
      "source": [],
      "metadata": {
        "id": "NBFhKfU9fSQz"
      },
      "execution_count": null,
      "outputs": []
    }
  ]
}